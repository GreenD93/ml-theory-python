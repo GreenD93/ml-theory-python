{
 "cells": [
  {
   "cell_type": "markdown",
   "metadata": {
    "collapsed": true
   },
   "source": [
    "# Alternating Least Squares\n",
    "----\n",
    "\n",
    "ALS is specific optimizer for Matrix Factorization.\n",
    "\n",
    "- Learn `User Latent Factor` and `Item Latent Factor` alternately.\n",
    "- Because training both factors sometimes very inefficient.\n",
    "- There are two step in ALS.\n",
    "    - Set `Item Latent Factor` as constant for learn to `User Latent Factor`\n",
    "- The original cost function of matrix factorization is below."
   ]
  },
  {
   "cell_type": "markdown",
   "metadata": {},
   "source": [
    "$$ min_{q,p} \\sum_{u,i}(r_{ui}-q_i^Tp_u)^2 + \\lambda(||q_i||^2 + ||p_u||^2) $$"
   ]
  },
  {
   "cell_type": "markdown",
   "metadata": {},
   "source": [
    "- And there is ALS's cost function.\n",
    "\n",
    "$$ min_{x,y} \\sum c_{ui}(p_{ui}-x_i^Ty_u)^2 + \\lambda(||x_i||^2 + ||y_u||^2) $$\n",
    "\n",
    "- We can see two difference like this\n",
    "    - $ p_{ui} $ is preference score(binary score) in Explicit feedback\n",
    "        - p is 1 if $ r_{ui} > 0 $\n",
    "        - p is 0 if $ r_{ui} = 0 $\n",
    "    - $ c_{ui} $ is confidence for $ p_{ui} $.\n",
    "        - $ c_{ui} = 1 + \\alpha* r_{ui} $\n",
    "        - If there are no score(p score), sparse matrix is very inefficient. (Almost implicit situation has sparse matrix problem)\n",
    "        - c score can solve this problem. If we use this, many zero values turn to non-zero (almost zero) value. So the model's performance is better than before."
   ]
  },
  {
   "cell_type": "markdown",
   "metadata": {},
   "source": [
    "- Learning Step\n",
    "    - 1) Fix Y's latent factor - $ \\frac{dL(x_i)}{dx_i} = -2\\sum c_{ui}(p_{ui}-x_i^Ty_u)*y_u + 2\\lambda x_i $\n",
    "        - 1-2) Find $ \\frac{dL(x_i)}{dx_i} $ is 0\n",
    "        - 1-3) After some equations(skip..), below equation is derived.\n",
    "        - 1-4) $ x_i = (Y^T C^i Y + \\lambda I)^{-1} Y^T C^i p(u) $\n",
    "    - 2) Fix X's latent factor\n",
    "    - iter loop~~"
   ]
  }
 ],
 "metadata": {
  "kernelspec": {
   "display_name": "Python 3",
   "language": "python",
   "name": "python3"
  },
  "language_info": {
   "codemirror_mode": {
    "name": "ipython",
    "version": 3
   },
   "file_extension": ".py",
   "mimetype": "text/x-python",
   "name": "python",
   "nbconvert_exporter": "python",
   "pygments_lexer": "ipython3",
   "version": "3.7.3"
  }
 },
 "nbformat": 4,
 "nbformat_minor": 1
}
