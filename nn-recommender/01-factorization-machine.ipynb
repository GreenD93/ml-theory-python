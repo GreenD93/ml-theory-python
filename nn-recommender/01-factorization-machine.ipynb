{
 "cells": [
  {
   "cell_type": "markdown",
   "metadata": {
    "collapsed": true,
    "pycharm": {
     "name": "#%% md\n"
    }
   },
   "source": [
    "## Factorization Machine\n",
    "----\n",
    "\n",
    "### Concept\n",
    "- Factorization Machine is general predictor like SVM. FM calculate all of pair-wise interaction between variables. So, FM can overcome the situation `cold-start` because of pair-wise vector factorization. It works like latent vector, but break the independence of the interaction parameter by factorizating them. Therefore, this algorithm can have a similar effect to using SVD++ with multiple variables.\n",
    "- This Algorithm works well especially in recommender system like e-commerce. Because of the sparsity in implicit data and content meta-information.\n",
    "- [Paper is here](https://www.csie.ntu.edu.tw/~b97053/paper/Rendle2010FM.pdf)\n",
    "\n",
    "### Model Equation\n",
    "- Conceptional model equation\n",
    "\n",
    "$$ \\hat{y}(x) = w_0 + \\sum_{i=1}^{n}w_i x_i + \\sum_{i=1}^{n}\\sum_{j=i+1}^{n} <v_i, v_j> x_i x_j $$\n",
    "\n",
    "$$ <v_i, v_j> = \\hat{w}_{ij} $$\n",
    "\n",
    "- FM have a closed model equation that can be computed in linear time O(kn), but actually O(kmd) because of zero-values.  \n",
    "\n",
    "$$ 0.5\\sum_{i=1}^{n}\\sum_{j=1}^{n} <v_i, v_j> x_i x_j - 0.5\\sum_{i=1}^{n}<v_i, v_i> x_i x_i $$\n",
    "\n",
    "$$ 0.5(\\sum_{i=1}^{n}\\sum_{j=1}^{n}\\sum_{f=1}^{k} v_{i,f} v_{j,f} x_i x_j - \\sum_{i=1}^{n}\\sum_{f=1}^{k} v_{i,f} v_{i,f} x_i x_i) $$\n",
    "\n",
    "$$ 0.5\\sum_{f=1}^{k}((\\sum_{i=1}^{n} v_i x_i)(\\sum_{j=1}^{n} v_j x_j) - \\sum_{i=1}^{n} {v_i}^2{x_i}^2) $$\n",
    "\n",
    "$$ 0.5\\sum_{f=1}^{k}((\\sum_{i=1}^{n} v_i x_i)^2 - \\sum_{i=1}^{n} {v_i}^2{x_i}^2) $$\n",
    "\n",
    "- Below code is implementation of FM's equation"
   ]
  },
  {
   "cell_type": "code",
   "execution_count": 78,
   "outputs": [],
   "source": [
    "import numpy as np\n",
    "\n",
    "# Pre-trained parameters\n",
    "b = 0.3\n",
    "w = np.array([0.001, 0.02, 0.009, -0.001])\n",
    "v = np.array([[0.00516, 0.0212581, 0.150338, 0.22903],\n",
    "              [0.241989, 0.0474224, 0.128744, 0.0995021], \n",
    "              [0.0657265, 0.1858, 0.0223, 0.140097], \n",
    "              [0.145557, 0.202392, 0.14798, 0.127928]])\n",
    "\n",
    "# Equation of FM model\n",
    "def inference(data):\n",
    "    num_data = len(data)\n",
    "    scores = np.zeros(num_data)\n",
    "    for n in range(num_data):\n",
    "        feat_idx = data[n][0]\n",
    "        val = np.array(data[n][1])\n",
    "        \n",
    "        # linear feature score\n",
    "        linear_feature_score = np.sum(w[feat_idx] * val)\n",
    "        \n",
    "        # factorized feature score\n",
    "        vx = v[feat_idx] * (val.reshape(-1, 1))\n",
    "        cross_sum = np.sum(vx, axis=0)\n",
    "        square_sum = np.sum(vx*vx, axis=0)\n",
    "        cross_feature_score = 0.5 * np.sum(np.square(cross_sum) - square_sum)\n",
    "        \n",
    "        # Model's equation\n",
    "        scores[n] = b + linear_feature_score + cross_feature_score\n",
    "\n",
    "    # Sigmoid transformation for binary classification\n",
    "    scores = 1.0 / (1.0 + np.exp(-scores))\n",
    "    return scores"
   ],
   "metadata": {
    "collapsed": false,
    "pycharm": {
     "name": "#%%\n",
     "is_executing": false
    }
   }
  },
  {
   "cell_type": "code",
   "execution_count": null,
   "outputs": [],
   "source": [
    "# Inference test for 3 case\n",
    "data = [[[0, 1, 3], # feature index \n",
    "         [0.33, 1, 1]], # feature value\n",
    "        [[2],\n",
    "         [1]],\n",
    "        [[0, 1, 2, 3],\n",
    "         [0.96, 1, 1, 1]]]\n",
    "\n",
    "inference(data)"
   ],
   "metadata": {
    "collapsed": false,
    "pycharm": {
     "name": "#%%\n"
    }
   }
  },
  {
   "cell_type": "markdown",
   "source": [
    "### Learning FM\n",
    "- The equation computed in linear time. So we can use SGD with below gradients. And in most cases add L2 Regularization on training model.\n",
    "\n",
    "$$ 1, \\hspace{1cm} if \\hspace{0.3cm} \\theta \\hspace{0.2cm} is \\hspace{0.2cm} w_0 $$\n",
    "\n",
    "$$ x_i, \\hspace{1cm} if \\hspace{0.3cm} \\theta \\hspace{0.2cm} is \\hspace{0.2cm} w_i $$\n",
    " \n",
    "$$ x_i \\sum_{j=1}^{n} v_{j,f}x_{j} - v_{i,f} {x_i}^2 \\hspace{1cm} if \\hspace{0.3cm} \\theta \\hspace{0.2cm} is \\hspace{0.2cm} v_{i,f} $$  "
   ],
   "metadata": {
    "collapsed": false,
    "pycharm": {
     "name": "#%% md\n"
    }
   }
  },
  {
   "cell_type": "code",
   "execution_count": 163,
   "outputs": [],
   "source": [
    "v = np.array([[10, 20],\n",
    "              [30, 40],\n",
    "              [50, 60],\n",
    "              [70, 80]])\n",
    "feat_idx = np.array([1,3]) ## x가 있는 곳의 위치\n",
    "val = np.array([2,2]) ## x값\n",
    "vx = v[feat_idx] * (val.reshape(-1, 1))"
   ],
   "metadata": {
    "collapsed": false,
    "pycharm": {
     "name": "#%%\n",
     "is_executing": false
    }
   }
  },
  {
   "cell_type": "code",
   "execution_count": 164,
   "outputs": [],
   "source": [
    "v[feat_idx] = v[feat_idx] - 0.001 * ((sum(vx) * (val.reshape(-1, 1)) - (vx * (val.reshape(-1, 1)))) + 0.01 * v[feat_idx])"
   ],
   "metadata": {
    "collapsed": false,
    "pycharm": {
     "name": "#%%\n",
     "is_executing": false
    }
   }
  },
  {
   "cell_type": "code",
   "execution_count": 165,
   "outputs": [
    {
     "data": {
      "text/plain": "array([[10, 20],\n       [29, 39],\n       [50, 60],\n       [69, 79]])"
     },
     "metadata": {},
     "output_type": "execute_result",
     "execution_count": 165
    }
   ],
   "source": [
    "v"
   ],
   "metadata": {
    "collapsed": false,
    "pycharm": {
     "name": "#%%\n",
     "is_executing": false
    }
   }
  },
  {
   "cell_type": "code",
   "execution_count": 167,
   "outputs": [
    {
     "data": {
      "text/plain": "array([[400, 480],\n       [400, 480]])"
     },
     "metadata": {},
     "output_type": "execute_result",
     "execution_count": 167
    }
   ],
   "source": [
    "(sum(vx) * (val.reshape(-1, 1)))"
   ],
   "metadata": {
    "collapsed": false,
    "pycharm": {
     "name": "#%%\n",
     "is_executing": false
    }
   }
  },
  {
   "cell_type": "code",
   "execution_count": 169,
   "outputs": [
    {
     "data": {
      "text/plain": "array([[120, 160],\n       [280, 320]])"
     },
     "metadata": {},
     "output_type": "execute_result",
     "execution_count": 169
    }
   ],
   "source": [
    "(vx * (val.reshape(-1, 1)))"
   ],
   "metadata": {
    "collapsed": false,
    "pycharm": {
     "name": "#%%\n",
     "is_executing": false
    }
   }
  },
  {
   "cell_type": "code",
   "execution_count": 170,
   "outputs": [
    {
     "data": {
      "text/plain": "array([[0.29, 0.39],\n       [0.69, 0.79]])"
     },
     "metadata": {},
     "output_type": "execute_result",
     "execution_count": 170
    }
   ],
   "source": [
    "0.01 * v[feat_idx]"
   ],
   "metadata": {
    "collapsed": false,
    "pycharm": {
     "name": "#%%\n",
     "is_executing": false
    }
   }
  },
  {
   "cell_type": "code",
   "execution_count": 176,
   "outputs": [
    {
     "data": {
      "text/plain": "array([[0.28029, 0.32039],\n       [0.12069, 0.16079]])"
     },
     "metadata": {},
     "output_type": "execute_result",
     "execution_count": 176
    }
   ],
   "source": [
    "0.001*((sum(vx) * (val.reshape(-1, 1)))-(vx * (val.reshape(-1, 1)))+0.01 * v[feat_idx])"
   ],
   "metadata": {
    "collapsed": false,
    "pycharm": {
     "name": "#%%\n",
     "is_executing": false
    }
   }
  },
  {
   "cell_type": "code",
   "execution_count": 182,
   "outputs": [
    {
     "data": {
      "text/plain": "4.5397868702434395e-05"
     },
     "metadata": {},
     "output_type": "execute_result",
     "execution_count": 182
    }
   ],
   "source": [
    "1.0 / (1.0 + np.exp(10))"
   ],
   "metadata": {
    "collapsed": false,
    "pycharm": {
     "name": "#%%\n",
     "is_executing": false
    }
   }
  },
  {
   "cell_type": "code",
   "execution_count": null,
   "outputs": [],
   "source": [
    "\n"
   ],
   "metadata": {
    "collapsed": false,
    "pycharm": {
     "name": "#%%\n"
    }
   }
  }
 ],
 "metadata": {
  "kernelspec": {
   "display_name": "Python 3",
   "language": "python",
   "name": "python3"
  },
  "language_info": {
   "codemirror_mode": {
    "name": "ipython",
    "version": 2
   },
   "file_extension": ".py",
   "mimetype": "text/x-python",
   "name": "python",
   "nbconvert_exporter": "python",
   "pygments_lexer": "ipython2",
   "version": "2.7.6"
  },
  "pycharm": {
   "stem_cell": {
    "cell_type": "raw",
    "source": [],
    "metadata": {
     "collapsed": false
    }
   }
  }
 },
 "nbformat": 4,
 "nbformat_minor": 0
}