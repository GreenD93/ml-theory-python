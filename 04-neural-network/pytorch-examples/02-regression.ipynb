{
 "cells": [
  {
   "cell_type": "markdown",
   "metadata": {
    "collapsed": true,
    "pycharm": {
     "name": "#%% md\n"
    }
   },
   "source": [
    "# 1. linear regression"
   ]
  },
  {
   "cell_type": "code",
   "execution_count": 24,
   "outputs": [],
   "source": [
    "# note from : https://github.com/yunjey/pytorch-tutorial/blob/master/tutorials/01-basics/pytorch_basics/main.py\n",
    "\n",
    "import torch\n",
    "import torch.nn as nn\n",
    "import numpy as np\n",
    "import matplotlib.pyplot as plt"
   ],
   "metadata": {
    "collapsed": false,
    "pycharm": {
     "name": "#%%\n",
     "is_executing": false
    }
   }
  },
  {
   "cell_type": "code",
   "execution_count": 19,
   "outputs": [],
   "source": [
    "x_train = np.array([[3.3], [4.4], [5.5], [6.71], [6.93], [4.168], \n",
    "                    [9.779], [6.182], [7.59], [2.167], [7.042], \n",
    "                    [10.791], [5.313], [7.997], [3.1]], dtype=np.float32)\n",
    "\n",
    "y_train = np.array([[1.7], [2.76], [2.09], [3.19], [1.694], [1.573], \n",
    "                    [3.366], [2.596], [2.53], [1.221], [2.827], \n",
    "                    [3.465], [1.65], [2.904], [1.3]], dtype=np.float32)"
   ],
   "metadata": {
    "collapsed": false,
    "pycharm": {
     "name": "#%%\n",
     "is_executing": false
    }
   }
  },
  {
   "cell_type": "code",
   "execution_count": 20,
   "outputs": [],
   "source": [
    "# define model\n",
    "model = nn.Linear(1, 1)"
   ],
   "metadata": {
    "collapsed": false,
    "pycharm": {
     "name": "#%%\n",
     "is_executing": false
    }
   }
  },
  {
   "cell_type": "code",
   "execution_count": 21,
   "outputs": [],
   "source": [
    "# define loss function & optimizer\n",
    "criterion = nn.MSELoss()\n",
    "optimizer = torch.optim.SGD(model.parameters(), lr=0.01)  "
   ],
   "metadata": {
    "collapsed": false,
    "pycharm": {
     "name": "#%%\n",
     "is_executing": false
    }
   }
  },
  {
   "cell_type": "code",
   "execution_count": 22,
   "outputs": [
    {
     "name": "stdout",
     "text": [
      "Epoch [5/10], Loss: 0.1689\nEpoch [10/10], Loss: 0.1689\nEpoch [15/10], Loss: 0.1689\nEpoch [20/10], Loss: 0.1689\nEpoch [25/10], Loss: 0.1689\nEpoch [30/10], Loss: 0.1689\nEpoch [35/10], Loss: 0.1689\nEpoch [40/10], Loss: 0.1689\nEpoch [45/10], Loss: 0.1689\nEpoch [50/10], Loss: 0.1689\nEpoch [55/10], Loss: 0.1689\nEpoch [60/10], Loss: 0.1689\nEpoch [65/10], Loss: 0.1689\nEpoch [70/10], Loss: 0.1689\nEpoch [75/10], Loss: 0.1689\nEpoch [80/10], Loss: 0.1689\nEpoch [85/10], Loss: 0.1689\nEpoch [90/10], Loss: 0.1689\nEpoch [95/10], Loss: 0.1689\nEpoch [100/10], Loss: 0.1689\nEpoch [105/10], Loss: 0.1689\nEpoch [110/10], Loss: 0.1689\nEpoch [115/10], Loss: 0.1689\nEpoch [120/10], Loss: 0.1689\nEpoch [125/10], Loss: 0.1689\nEpoch [130/10], Loss: 0.1689\nEpoch [135/10], Loss: 0.1689\nEpoch [140/10], Loss: 0.1689\nEpoch [145/10], Loss: 0.1689\nEpoch [150/10], Loss: 0.1689\nEpoch [155/10], Loss: 0.1689\nEpoch [160/10], Loss: 0.1689\nEpoch [165/10], Loss: 0.1689\nEpoch [170/10], Loss: 0.1689\nEpoch [175/10], Loss: 0.1689\nEpoch [180/10], Loss: 0.1689\nEpoch [185/10], Loss: 0.1689\nEpoch [190/10], Loss: 0.1689\nEpoch [195/10], Loss: 0.1689\nEpoch [200/10], Loss: 0.1689\nEpoch [205/10], Loss: 0.1689\nEpoch [210/10], Loss: 0.1689\nEpoch [215/10], Loss: 0.1689\nEpoch [220/10], Loss: 0.1689\nEpoch [225/10], Loss: 0.1689\nEpoch [230/10], Loss: 0.1689\nEpoch [235/10], Loss: 0.1689\nEpoch [240/10], Loss: 0.1689\nEpoch [245/10], Loss: 0.1689\nEpoch [250/10], Loss: 0.1689\nEpoch [255/10], Loss: 0.1689\nEpoch [260/10], Loss: 0.1689\nEpoch [265/10], Loss: 0.1689\nEpoch [270/10], Loss: 0.1689\nEpoch [275/10], Loss: 0.1689\nEpoch [280/10], Loss: 0.1689\nEpoch [285/10], Loss: 0.1689\nEpoch [290/10], Loss: 0.1689\nEpoch [295/10], Loss: 0.1689\nEpoch [300/10], Loss: 0.1689\nEpoch [305/10], Loss: 0.1689\nEpoch [310/10], Loss: 0.1689\nEpoch [315/10], Loss: 0.1689\nEpoch [320/10], Loss: 0.1689\nEpoch [325/10], Loss: 0.1689\nEpoch [330/10], Loss: 0.1689\nEpoch [335/10], Loss: 0.1689\nEpoch [340/10], Loss: 0.1689\nEpoch [345/10], Loss: 0.1689\nEpoch [350/10], Loss: 0.1689\nEpoch [355/10], Loss: 0.1689\nEpoch [360/10], Loss: 0.1689\nEpoch [365/10], Loss: 0.1689\nEpoch [370/10], Loss: 0.1689\nEpoch [375/10], Loss: 0.1689\nEpoch [380/10], Loss: 0.1689\nEpoch [385/10], Loss: 0.1689\nEpoch [390/10], Loss: 0.1689\nEpoch [395/10], Loss: 0.1689\nEpoch [400/10], Loss: 0.1689\nEpoch [405/10], Loss: 0.1689\nEpoch [410/10], Loss: 0.1689\nEpoch [415/10], Loss: 0.1689\nEpoch [420/10], Loss: 0.1689\nEpoch [425/10], Loss: 0.1689\nEpoch [430/10], Loss: 0.1689\nEpoch [435/10], Loss: 0.1689\nEpoch [440/10], Loss: 0.1689\nEpoch [445/10], Loss: 0.1689\nEpoch [450/10], Loss: 0.1689\nEpoch [455/10], Loss: 0.1689\nEpoch [460/10], Loss: 0.1689\nEpoch [465/10], Loss: 0.1689\nEpoch [470/10], Loss: 0.1689\nEpoch [475/10], Loss: 0.1689\nEpoch [480/10], Loss: 0.1689\nEpoch [485/10], Loss: 0.1689\nEpoch [490/10], Loss: 0.1689\nEpoch [495/10], Loss: 0.1689\nEpoch [500/10], Loss: 0.1689\n"
     ],
     "output_type": "stream"
    }
   ],
   "source": [
    "# Train the model\n",
    "for epoch in range(500):\n",
    "    # Convert numpy arrays to torch tensors\n",
    "    inputs = torch.from_numpy(x_train)\n",
    "    targets = torch.from_numpy(y_train)\n",
    "\n",
    "    # Forward pass\n",
    "    outputs = model(inputs)\n",
    "    loss = criterion(outputs, targets)\n",
    "    \n",
    "    # Backward and optimize\n",
    "    optimizer.zero_grad()\n",
    "    loss.backward()\n",
    "    optimizer.step()\n",
    "    \n",
    "    if (epoch+1) % 5 == 0:\n",
    "        print ('Epoch [{}/{}], Loss: {:.4f}'.format(epoch+1, 10, loss.item()))"
   ],
   "metadata": {
    "collapsed": false,
    "pycharm": {
     "name": "#%%\n",
     "is_executing": false
    }
   }
  },
  {
   "cell_type": "code",
   "execution_count": 23,
   "outputs": [
    {
     "data": {
      "text/plain": "<Figure size 432x288 with 1 Axes>",
      "image/png": "[encoded data removed]"
     },
     "metadata": {
      "needs_background": "light"
     },
     "output_type": "display_data"
    }
   ],
   "source": [
    "# Plot the graph\n",
    "predicted = model(torch.from_numpy(x_train)).detach().numpy()\n",
    "plt.plot(x_train, y_train, 'ro', label='Original data')\n",
    "plt.plot(x_train, predicted, label='Fitted line')\n",
    "plt.legend()\n",
    "plt.show()"
   ],
   "metadata": {
    "collapsed": false,
    "pycharm": {
     "name": "#%%\n",
     "is_executing": false
    }
   }
  },
  {
   "cell_type": "markdown",
   "source": [
    "# 2. Logistic regression with dataset\n",
    "### 1) prepare dataset"
   ],
   "metadata": {
    "collapsed": false
   }
  },
  {
   "cell_type": "code",
   "execution_count": 66,
   "outputs": [],
   "source": [
    "class LibsvmTransformer:\n",
    "    def __init__(self, train_path, valid_path, batch_size, input_dim):\n",
    "        self._train_path = train_path\n",
    "        self._valid_path = valid_path\n",
    "        self._batch_size = batch_size\n",
    "        self._input_dim = input_dim\n",
    "        self._init_stream()\n",
    "        \n",
    "    def _init_stream(self):\n",
    "        self._train_streamer = self.stream_docs(path=self._train_path)\n",
    "        \n",
    "    def stream_docs(self, path):\n",
    "        \"\"\"\n",
    "        Lazy function (generator) to read a file piece by piece.\n",
    "        Transform libsvm data format to numpy array.\n",
    "        \"\"\"\n",
    "        with open(path, 'r', encoding='utf-8') as txt:\n",
    "            for line in txt:\n",
    "                if not line:\n",
    "                    break\n",
    "                y = int(line[0])\n",
    "                x = np.zeros(self._input_dim)\n",
    "                for tup in line[2:].split(\" \"):\n",
    "                    x[int(tup.split(\":\")[0])] = int(tup.split(\":\")[1])\n",
    "                yield x, y\n",
    "                \n",
    "    def get_minibatch(self):\n",
    "        \"\"\"\n",
    "        Get mini-batch from dataset generator  \n",
    "        \"\"\"\n",
    "        X = []\n",
    "        Y = []\n",
    "        try:\n",
    "            for _ in range(self._batch_size):\n",
    "                x_i, y_i = next(self._train_streamer)\n",
    "                X.append(x_i)\n",
    "                Y.append(y_i)\n",
    "        except StopIteration:\n",
    "            return None, None\n",
    "        return np.array(X, dtype=np.float32), np.array(Y)\n",
    "\n",
    "data_transformer = LibsvmTransformer(train_path='../../dataset/train.txt',\n",
    "                                     valid_path='../../dataset/test.txt',\n",
    "                                     input_dim=37,\n",
    "                                     batch_size=64)"
   ],
   "metadata": {
    "collapsed": false,
    "pycharm": {
     "name": "#%%\n",
     "is_executing": false
    }
   }
  },
  {
   "cell_type": "code",
   "execution_count": 67,
   "outputs": [],
   "source": [
    "# define model\n",
    "model = nn.Linear(37, 2)"
   ],
   "metadata": {
    "collapsed": false,
    "pycharm": {
     "name": "#%%\n",
     "is_executing": false
    }
   }
  },
  {
   "cell_type": "code",
   "execution_count": 68,
   "outputs": [],
   "source": [
    "# define loss function & optimizer\n",
    "criterion = nn.CrossEntropyLoss()  \n",
    "optimizer = torch.optim.SGD(model.parameters(), lr=0.01)    "
   ],
   "metadata": {
    "collapsed": false,
    "pycharm": {
     "name": "#%%\n",
     "is_executing": false
    }
   }
  },
  {
   "cell_type": "code",
   "execution_count": 69,
   "outputs": [
    {
     "name": "stdout",
     "text": [
      "tensor([[ 0.1416, -0.1956],\n        [ 0.2136,  0.1318],\n        [ 0.2254,  0.0574],\n        [-0.0554,  0.1409],\n        [ 0.3044,  0.0236],\n        [ 0.2772, -0.1779],\n        [ 0.3940, -0.0851],\n        [ 0.2525, -0.0462],\n        [ 0.0269,  0.0236],\n        [ 0.2772, -0.1779],\n        [ 0.1416, -0.1956],\n        [ 0.2136,  0.1318],\n        [ 0.5570, -0.0475],\n        [ 0.2136,  0.1318],\n        [ 0.1541,  0.2584],\n        [ 0.1416, -0.1956],\n        [ 0.2524,  0.0218],\n        [-0.0538, -0.1635],\n        [ 0.5210, -0.0789],\n        [ 0.1416, -0.1956],\n        [ 0.1373,  0.3129],\n        [ 0.4474, -0.0936],\n        [-0.5255,  0.3582],\n        [ 0.1876, -0.0692],\n        [ 0.4589,  0.2812],\n        [ 0.5644, -0.1825],\n        [ 0.1876, -0.0692],\n        [ 0.3119, -0.1047],\n        [ 0.2585, -0.2220],\n        [ 0.0228, -0.0673],\n        [-0.1129, -0.0851],\n        [ 0.1416, -0.1956],\n        [-0.1129, -0.0851],\n        [ 0.5210, -0.0789],\n        [ 0.1807, -0.1640],\n        [ 0.1416, -0.1956],\n        [ 0.1416, -0.1956],\n        [ 0.1876, -0.0692],\n        [ 0.2326, -0.0942],\n        [-0.0622, -0.3793],\n        [ 0.3016,  0.2017],\n        [ 0.2583, -0.1028],\n        [ 0.0228, -0.0673],\n        [-0.2591, -0.0427],\n        [ 0.1416, -0.1956],\n        [-0.1497,  0.0859],\n        [ 0.0222, -0.4169],\n        [ 0.1416, -0.1956],\n        [ 0.4400,  0.0414],\n        [ 0.5570, -0.0475],\n        [ 0.1416, -0.1956],\n        [ 0.1416, -0.1956],\n        [ 0.1416, -0.1956],\n        [ 0.5210, -0.0789],\n        [ 0.1416, -0.1956],\n        [ 0.1416, -0.1956],\n        [-0.0199, -0.2048],\n        [ 0.1990,  0.0304],\n        [-0.1295, -0.2938],\n        [-0.1129, -0.0851],\n        [ 0.2688, -0.1082],\n        [ 0.4694, -0.1034],\n        [-0.0199, -0.2048],\n        [ 0.1416, -0.1956]], grad_fn=<AddmmBackward>)\nEpoch [5/10], Loss: 0.7271\n",
      "tensor([[ 0.2536,  0.0680],\n        [-0.0986, -0.0994],\n        [ 0.2013, -0.0829],\n        [ 0.3874, -0.1553],\n        [ 0.0332,  0.1926],\n        [-0.0633,  0.2614],\n        [-0.0057, -0.2190],\n        [ 0.1964, -0.2432],\n        [ 0.1569, -0.2110],\n        [-0.0244,  0.1276],\n        [ 0.1569, -0.2110],\n        [-0.0498, -0.3916],\n        [ 0.1451,  0.1959],\n        [ 0.7343, -0.1917],\n        [ 0.0372, -0.2977],\n        [ 0.4582,  0.2819],\n        [ 0.2012, -0.0140],\n        [ 0.3945, -0.0855],\n        [ 0.2580, -0.1794],\n        [ 0.3095,  0.0184],\n        [ 0.4414,  0.1034],\n        [ 0.1771, -0.2035],\n        [ 0.1569, -0.2110],\n        [ 0.1569, -0.2110],\n        [ 0.2862, -0.1869],\n        [ 0.2862, -0.1869],\n        [ 0.1184, -0.1727],\n        [ 0.4270, -0.2334],\n        [ 0.1569, -0.2110],\n        [ 0.1569, -0.2110],\n        [ 0.4187,  0.3141],\n        [ 0.2675,  0.1597],\n        [ 0.2971,  0.2062],\n        [ 0.1569, -0.2110],\n        [ 0.2477, -0.1486],\n        [ 0.3512, -0.1846],\n        [-0.1968,  0.1062],\n        [ 0.2332,  0.0547],\n        [ 0.2862, -0.1869],\n        [-0.0436, -0.1181],\n        [ 0.1964, -0.2432],\n        [ 0.2862, -0.1869],\n        [-0.3206,  0.0153],\n        [ 0.4575,  0.1362],\n        [ 0.0219, -0.0023],\n        [ 0.2274, -0.2347],\n        [ 0.4582,  0.2819],\n        [ 0.1060,  0.0151],\n        [ 0.3945, -0.0855],\n        [ 0.3168, -0.1165],\n        [-0.1344,  0.1927],\n        [ 0.1569, -0.2110],\n        [-0.0830, -0.3756],\n        [ 0.1569, -0.2110],\n        [-0.1756,  0.0275],\n        [ 0.1833,  0.1717],\n        [ 0.3080, -0.2533],\n        [ 0.0977,  0.1537],\n        [ 0.5581, -0.0486],\n        [ 0.1655,  0.0024],\n        [-0.0057, -0.2190],\n        [ 0.3854, -0.0967],\n        [ 0.1569, -0.2110],\n        [-0.0498, -0.3916]], grad_fn=<AddmmBackward>)\nEpoch [10/10], Loss: 0.7022\n"
     ],
     "output_type": "stream"
    },
    {
     "traceback": [
      "\u001b[0;31m---------------------------------------------------------------------------\u001b[0m",
      "\u001b[0;31mTypeError\u001b[0m                                 Traceback (most recent call last)",
      "\u001b[0;32m<ipython-input-69-ee63c74724e0>\u001b[0m in \u001b[0;36m<module>\u001b[0;34m\u001b[0m\n\u001b[1;32m      3\u001b[0m     \u001b[0;31m# Convert numpy arrays to torch tensors\u001b[0m\u001b[0;34m\u001b[0m\u001b[0;34m\u001b[0m\u001b[0;34m\u001b[0m\u001b[0m\n\u001b[1;32m      4\u001b[0m     \u001b[0mx_train\u001b[0m\u001b[0;34m,\u001b[0m \u001b[0my_train\u001b[0m \u001b[0;34m=\u001b[0m \u001b[0mdata_transformer\u001b[0m\u001b[0;34m.\u001b[0m\u001b[0mget_minibatch\u001b[0m\u001b[0;34m(\u001b[0m\u001b[0;34m)\u001b[0m\u001b[0;34m\u001b[0m\u001b[0;34m\u001b[0m\u001b[0m\n\u001b[0;32m----> 5\u001b[0;31m     \u001b[0minputs\u001b[0m \u001b[0;34m=\u001b[0m \u001b[0mtorch\u001b[0m\u001b[0;34m.\u001b[0m\u001b[0mfrom_numpy\u001b[0m\u001b[0;34m(\u001b[0m\u001b[0mx_train\u001b[0m\u001b[0;34m)\u001b[0m\u001b[0;34m\u001b[0m\u001b[0;34m\u001b[0m\u001b[0m\n\u001b[0m\u001b[1;32m      6\u001b[0m     \u001b[0mtargets\u001b[0m \u001b[0;34m=\u001b[0m \u001b[0mtorch\u001b[0m\u001b[0;34m.\u001b[0m\u001b[0mfrom_numpy\u001b[0m\u001b[0;34m(\u001b[0m\u001b[0my_train\u001b[0m\u001b[0;34m)\u001b[0m\u001b[0;34m\u001b[0m\u001b[0;34m\u001b[0m\u001b[0m\n\u001b[1;32m      7\u001b[0m \u001b[0;34m\u001b[0m\u001b[0m\n",
      "\u001b[0;31mTypeError\u001b[0m: expected np.ndarray (got NoneType)"
     ],
     "ename": "TypeError",
     "evalue": "expected np.ndarray (got NoneType)",
     "output_type": "error"
    }
   ],
   "source": [
    "# Train the model\n",
    "for epoch in range(500):\n",
    "    # Convert numpy arrays to torch tensors\n",
    "    x_train, y_train = data_transformer.get_minibatch()\n",
    "    inputs = torch.from_numpy(x_train)\n",
    "    targets = torch.from_numpy(y_train)\n",
    "\n",
    "    # Forward pass\n",
    "    outputs = model(inputs)\n",
    "    loss = criterion(outputs, targets)\n",
    "    \n",
    "    # Backward and optimize\n",
    "    optimizer.zero_grad()\n",
    "    loss.backward()\n",
    "    optimizer.step()\n",
    "    \n",
    "    if (epoch+1) % 5 == 0:\n",
    "        print(outputs)\n",
    "        print ('Epoch [{}/{}], Loss: {:.4f}'.format(epoch+1, 10, loss.item()))"
   ],
   "metadata": {
    "collapsed": false,
    "pycharm": {
     "name": "#%%\n",
     "is_executing": false
    }
   }
  },
  {
   "cell_type": "code",
   "execution_count": null,
   "outputs": [],
   "source": [
    "\"python with open yield reset\""
   ],
   "metadata": {
    "collapsed": false,
    "pycharm": {
     "name": "#%%\n"
    }
   }
  }
 ],
 "metadata": {
  "kernelspec": {
   "display_name": "Python 3",
   "language": "python",
   "name": "python3"
  },
  "language_info": {
   "codemirror_mode": {
    "name": "ipython",
    "version": 2
   },
   "file_extension": ".py",
   "mimetype": "text/x-python",
   "name": "python",
   "nbconvert_exporter": "python",
   "pygments_lexer": "ipython2",
   "version": "2.7.6"
  },
  "pycharm": {
   "stem_cell": {
    "cell_type": "raw",
    "source": [],
    "metadata": {
     "collapsed": false
    }
   }
  }
 },
 "nbformat": 4,
 "nbformat_minor": 0
}