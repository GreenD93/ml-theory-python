{
 "cells": [
  {
   "cell_type": "markdown",
   "metadata": {
    "collapsed": true,
    "pycharm": {
     "name": "#%% md\n"
    }
   },
   "source": [
    "# Testing\n",
    "----\n",
    "\n",
    "### Sampling\n",
    "\n",
    "Sample data is extracted data from population data. It is materials of data analysis, machine learning, estimation, prediction.\n",
    "\n",
    "- Jackknife : Sampling without replacement.\n",
    "- Re-Sampling with replacement\n",
    "    - bootstrapping\n",
    "        - `population -> sample data -> randomized re-sample data (with replacement == permit duplication data point)` calls bootstrapping.\n",
    "        - for example, if we have sampled data = [50, 55, 60, 70, 80]\n",
    "        - then, bootstrap is below\n",
    "            - [50, 50, 50, 70, 70]\n",
    "            - [60, 70, 80, 80, 80]\n",
    "            - [50, 55, 60, 70, 80]\n",
    "            - ...\n",
    "        - now we can estimate trust area and standard error.\n",
    "    - k-fold cross validation\n",
    "        - split data to equal pieces\n",
    "        - e.g) using $i$'th ~ $n-i$'th pieces as train, using n'th piece as valid data. and iteratively doing this in many pieces.\n",
    "        - main purpose of cv(cross-validation) like methods, as split data to train and valid, we can get many errors in each trial. so we can use the trials."
   ]
  },
  {
   "cell_type": "markdown",
   "source": [],
   "metadata": {
    "collapsed": false
   }
  }
 ],
 "metadata": {
  "kernelspec": {
   "display_name": "Python 3",
   "language": "python",
   "name": "python3"
  },
  "language_info": {
   "codemirror_mode": {
    "name": "ipython",
    "version": 2
   },
   "file_extension": ".py",
   "mimetype": "text/x-python",
   "name": "python",
   "nbconvert_exporter": "python",
   "pygments_lexer": "ipython2",
   "version": "2.7.6"
  },
  "pycharm": {
   "stem_cell": {
    "cell_type": "raw",
    "source": [],
    "metadata": {
     "collapsed": false
    }
   }
  }
 },
 "nbformat": 4,
 "nbformat_minor": 0
}