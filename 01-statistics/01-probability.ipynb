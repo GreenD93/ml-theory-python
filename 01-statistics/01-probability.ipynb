{
 "cells": [
  {
   "cell_type": "markdown",
   "metadata": {
    "collapsed": true,
    "pycharm": {
     "is_executing": false,
     "name": "#%% md\n"
    }
   },
   "source": [
    "## Probability\n",
    "----\n",
    "\n",
    "### Set (집합)\n",
    "- Set is a group of distinguishable objects like in python.\n",
    "- The relationship between element x and set A containing that element is generally expressed as below.\n",
    "\n",
    "$$ x \\in A $$\n",
    "\n",
    "- Note : Python's set is mutable variable, frozenset is immutable variable."
   ]
  },
  {
   "cell_type": "code",
   "execution_count": 2,
   "outputs": [],
   "source": [
    "A1 = set([1,2,3,4])\n",
    "A2 = set([2,3,4,5])\n",
    "A3 = set([5,6,7,8])"
   ],
   "metadata": {
    "collapsed": false,
    "pycharm": {
     "name": "#%%\n",
     "is_executing": false
    }
   }
  },
  {
   "cell_type": "code",
   "execution_count": 3,
   "outputs": [
    {
     "data": {
      "text/plain": "{1, 2, 3, 4, 5}"
     },
     "metadata": {},
     "output_type": "execute_result",
     "execution_count": 3
    }
   ],
   "source": [
    "A1.union(A2)"
   ],
   "metadata": {
    "collapsed": false,
    "pycharm": {
     "name": "#%%\n",
     "is_executing": false
    }
   }
  },
  {
   "cell_type": "code",
   "execution_count": 5,
   "outputs": [
    {
     "data": {
      "text/plain": "{2, 3, 4}"
     },
     "metadata": {},
     "output_type": "execute_result",
     "execution_count": 5
    }
   ],
   "source": [
    "A1.intersection(A2)"
   ],
   "metadata": {
    "collapsed": false,
    "pycharm": {
     "name": "#%%\n",
     "is_executing": false
    }
   }
  },
  {
   "cell_type": "markdown",
   "source": [
    "----\n",
    "### Immutable vs Mutable\n",
    "- Mutable variable can't be use hashable (key of dictionary or element of set)"
   ],
   "metadata": {
    "collapsed": false,
    "pycharm": {
     "name": "#%% md\n"
    }
   }
  },
  {
   "cell_type": "code",
   "execution_count": 6,
   "outputs": [],
   "source": [
    "A1 = set([1,2,3,4])\n",
    "A2 = frozenset([3,4,5,6])"
   ],
   "metadata": {
    "collapsed": false,
    "pycharm": {
     "name": "#%%\n",
     "is_executing": false
    }
   }
  },
  {
   "cell_type": "code",
   "execution_count": 10,
   "outputs": [
    {
     "traceback": [
      "\u001b[0;31m---------------------------------------------------------------------------\u001b[0m",
      "\u001b[0;31mTypeError\u001b[0m                                 Traceback (most recent call last)",
      "\u001b[0;32m<ipython-input-10-a8f3919e0359>\u001b[0m in \u001b[0;36m<module>\u001b[0;34m\u001b[0m\n\u001b[0;32m----> 1\u001b[0;31m \u001b[0mpython_dict\u001b[0m \u001b[0;34m=\u001b[0m \u001b[0;34m{\u001b[0m\u001b[0mA1\u001b[0m\u001b[0;34m:\u001b[0m \u001b[0mA2\u001b[0m\u001b[0;34m}\u001b[0m\u001b[0;34m\u001b[0m\u001b[0;34m\u001b[0m\u001b[0m\n\u001b[0m",
      "\u001b[0;31mTypeError\u001b[0m: unhashable type: 'set'"
     ],
     "ename": "TypeError",
     "evalue": "unhashable type: 'set'",
     "output_type": "error"
    }
   ],
   "source": [
    "python_dict = {A1: A2}"
   ],
   "metadata": {
    "collapsed": false,
    "pycharm": {
     "name": "#%%\n",
     "is_executing": false
    }
   }
  },
  {
   "cell_type": "code",
   "execution_count": 11,
   "outputs": [],
   "source": [
    "python_dict = {A2: A1}"
   ],
   "metadata": {
    "collapsed": false,
    "pycharm": {
     "name": "#%%\n",
     "is_executing": false
    }
   }
  },
  {
   "cell_type": "code",
   "source": [
    "python_dict[frozenset([3,4,5,6])]"
   ],
   "metadata": {
    "collapsed": false,
    "pycharm": {
     "name": "#%% \n",
     "is_executing": false
    }
   },
   "execution_count": 13,
   "outputs": [
    {
     "data": {
      "text/plain": "{1, 2, 3, 4}"
     },
     "metadata": {},
     "output_type": "execute_result",
     "execution_count": 13
    }
   ]
  },
  {
   "cell_type": "markdown",
   "source": [
    "----\n",
    "### Components of Probability\n",
    "- `Probabilistic Sample (=Random Sample) or Sample` : One case or phenomenon realize in probabilistical problem. \n",
    "- `Sample Space` : Set of all possible samples. Usually expressed as below.\n",
    "\n",
    "$$ Sample Space : \\Omega $$\n",
    "\n",
    "- `Random Variable` : A function that maps outcomes to numerical quantities. \n",
    "    - e.g. dice game : There is a sample space of dice game, S = {1,2,3,4,5,6}. Then `random variable` is `The number that appears when you roll a dice` like below.\n",
    "\n",
    "$$ P(X=1) = 1/6, P(X=2) = 1/6... $$\n",
    "\n",
    "$$ f(x=n) \\to numerical output $$  \n",
    "\n",
    "- So, {1,2,3,4,5,6} is `Random Variable`.\n",
    "- Defining the sample space is determine which samples are possible or not to the range we consider.\n",
    "- For example, when we playing the coin toss game, the sample space is below.\n",
    "\n",
    " $$ \\Omega = \\{H, T\\}$$\n",
    " "
   ],
   "metadata": {
    "collapsed": false,
    "pycharm": {
     "name": "#%% md\n"
    }
   }
  },
  {
   "cell_type": "code",
   "execution_count": 14,
   "outputs": [
    {
     "data": {
      "text/plain": "{frozenset(), frozenset({'H'}), frozenset({'T'}), frozenset({'H', 'T'})}"
     },
     "metadata": {},
     "output_type": "execute_result",
     "execution_count": 14
    }
   ],
   "source": [
    "# the set of subset in coin toss game\n",
    "A = frozenset([])\n",
    "B = frozenset(['H'])\n",
    "C = frozenset(['T'])\n",
    "D = frozenset(['H', 'T'])\n",
    "set([A,B,C,D])"
   ],
   "metadata": {
    "collapsed": false,
    "pycharm": {
     "name": "#%% \n",
     "is_executing": false
    }
   }
  },
  {
   "cell_type": "markdown",
   "source": [
    "----\n",
    "### Probability\n",
    "- A likelihood of an event of random variable to be occured.\n",
    "- Sum of p for all possible disjoint events are 1.\n",
    "- Probability is a function. And this function has 3 rules : \n",
    "    - def(input: event or subset), return (output: likelihood of an event)\n",
    "    - 3 rules\n",
    "\n",
    "$$ P(subset) = P(A) >= 0 $$\n",
    "\n",
    "$$ P(\\Omega) = 1 $$\n",
    "\n",
    "$$ A \\cap\\ B = \\Phi  \\to  P(A \\cup\\ B) = P(A) + P(B) $$\n",
    "\n",
    "----"
   ],
   "metadata": {
    "collapsed": false,
    "pycharm": {
     "name": "#%% md\n"
    }
   }
  },
  {
   "cell_type": "markdown",
   "source": [
    "### PDF (Probability Distribution Function)\n",
    "\n",
    "- `Probability Distribution`\n",
    "    - Information describing the degree of probability assigned to an event(or subset)\n",
    "- `probability mass function`\n",
    "    - If the event has finite case, defining probability of each simple event is `probability mass function`. Commonly express as lower case of p.\n",
    "    - So, we can calculate probability of every events.\n",
    "\n",
    "$$ p(a) = P(\\{a\\}) $$\n",
    "\n",
    "- `When the number of samples is infinite`\n",
    "    - On the other hand, If the event has infinite case, we must have to assign probability to events.\n",
    "    \n",
    "- `Section`\n",
    "    - Generally, express as $P(a,b)$. \n",
    "\n",
    "$$ A = \\{a<x<=b\\} $$\n",
    "\n",
    "$$ P(A) = P(\\{a<x<=b\\}) = P(a,b) $$\n",
    "\n",
    "- ``"
   ],
   "metadata": {
    "collapsed": false,
    "pycharm": {
     "name": "#%% md\n"
    }
   }
  }
 ],
 "metadata": {
  "kernelspec": {
   "display_name": "Python 3",
   "language": "python",
   "name": "python3"
  },
  "language_info": {
   "codemirror_mode": {
    "name": "ipython",
    "version": 2
   },
   "file_extension": ".py",
   "mimetype": "text/x-python",
   "name": "python",
   "nbconvert_exporter": "python",
   "pygments_lexer": "ipython2",
   "version": "2.7.6"
  },
  "pycharm": {
   "stem_cell": {
    "cell_type": "raw",
    "source": [],
    "metadata": {
     "collapsed": false
    }
   }
  }
 },
 "nbformat": 4,
 "nbformat_minor": 0
}